{
 "cells": [
  {
   "cell_type": "markdown",
   "metadata": {},
   "source": [
    "# Homework 5: Bayesian parameter estimation"
   ]
  },
  {
   "cell_type": "markdown",
   "metadata": {},
   "source": [
    "Consider the dataset given in the next cell along with a model given by\n",
    "\n",
    "$P(y | x_1, x_2, \\sigma_e, \\beta_0, \\beta_1, \\beta_2) \\sim N(\\beta_0 + \\beta_1 x_1 + \\beta_2 x_2, \\sigma_e^2)$  (i.e. normally distributed with given mean and variance)\n",
    "\n",
    "Furthermore, take the priors on the dataset to be\n",
    "\n",
    "$\\log(\\sigma_e) \\sim N(0,2^2)$  \n",
    "$\\log(\\sigma_\\beta) \\sim N(0,2^2)$  \n",
    "$\\beta_0 \\sim N(0,10^2)$  \n",
    "$\\beta_1 | \\sigma_\\beta \\sim N(0,\\sigma_\\beta^2)$  \n",
    "$\\beta_2 | \\sigma_\\beta \\sim N(0,\\sigma_\\beta^2)$ \n",
    "\n",
    "**Problem 1** Write down an expression for the posterior distribution of the parameters.\n",
    "\n",
    "**Problem 2** Write a Metropolis-Hastings scheme that updates one parameter during each step ($\\log(\\sigma_e), \\log(\\sigma_\\beta), \\beta_0, \\beta_1, \\beta_2$; note: update $\\log(\\sigma)$ rather than $\\sigma$).  Determine the stepsizes of each part of the proposal by adjusting/tuning them so that the acceptance rate within each chain is between 20-60% and run for at least 10,000 steps. Examine the value of the parameter as a function of the number of proposals.  Then examine a histogram of each of the 5 model parameters.  \n",
    "\n",
    "**Problem 3** Repeat problem 2 by implementing a Gibbs sampler. Compare the plots that examine the the parameter values vs. the number of proposals: How do these plots compare? How do the histograms compare?\n",
    "\n",
    "**Problem 4** Repeat problem 3 by implementing an Hamiltonian Monte Carlo algorithm.  Take the 'kinetic energy' to be $K(p) = \\sum_{i=1}^5 \\frac{p_i^2}{2 m_i}$.  You will need to tune the parameters $T$, $dt$, and the $m_i$'s, where $T$ is the amount of time you advance the Hamiltonian dynamics and $dt$ is the time step.  (Hint: use the stepsizes you found in problem 2 to determine the $m_i$'s).  Use may use the leapfrog algorithm I have provided below, but you will have to determine the gradient of the Hamiltonian, $\\partial_q H$ and $\\partial_p H$. \n",
    "\n",
    "**Problem 5** Estimate how many samples are needed in each of the above methods in order to achieve an 'accurate' answer."
   ]
  },
  {
   "cell_type": "code",
   "execution_count": 7,
   "metadata": {
    "scrolled": true
   },
   "outputs": [
    {
     "data": {
      "text/html": [
       "<div>\n",
       "<style scoped>\n",
       "    .dataframe tbody tr th:only-of-type {\n",
       "        vertical-align: middle;\n",
       "    }\n",
       "\n",
       "    .dataframe tbody tr th {\n",
       "        vertical-align: top;\n",
       "    }\n",
       "\n",
       "    .dataframe thead th {\n",
       "        text-align: right;\n",
       "    }\n",
       "</style>\n",
       "<table border=\"1\" class=\"dataframe\">\n",
       "  <thead>\n",
       "    <tr style=\"text-align: right;\">\n",
       "      <th></th>\n",
       "      <th>y</th>\n",
       "      <th>x1</th>\n",
       "      <th>x2</th>\n",
       "    </tr>\n",
       "  </thead>\n",
       "  <tbody>\n",
       "    <tr>\n",
       "      <th>0</th>\n",
       "      <td>2.478</td>\n",
       "      <td>1.449</td>\n",
       "      <td>0.856</td>\n",
       "    </tr>\n",
       "    <tr>\n",
       "      <th>1</th>\n",
       "      <td>0.306</td>\n",
       "      <td>0.408</td>\n",
       "      <td>0.801</td>\n",
       "    </tr>\n",
       "    <tr>\n",
       "      <th>2</th>\n",
       "      <td>-1.062</td>\n",
       "      <td>-0.705</td>\n",
       "      <td>-0.009</td>\n",
       "    </tr>\n",
       "    <tr>\n",
       "      <th>3</th>\n",
       "      <td>-1.986</td>\n",
       "      <td>-2.055</td>\n",
       "      <td>-1.830</td>\n",
       "    </tr>\n",
       "    <tr>\n",
       "      <th>4</th>\n",
       "      <td>1.825</td>\n",
       "      <td>1.158</td>\n",
       "      <td>0.653</td>\n",
       "    </tr>\n",
       "    <tr>\n",
       "      <th>5</th>\n",
       "      <td>0.143</td>\n",
       "      <td>-0.127</td>\n",
       "      <td>-0.138</td>\n",
       "    </tr>\n",
       "    <tr>\n",
       "      <th>6</th>\n",
       "      <td>0.433</td>\n",
       "      <td>0.033</td>\n",
       "      <td>-0.107</td>\n",
       "    </tr>\n",
       "    <tr>\n",
       "      <th>7</th>\n",
       "      <td>3.726</td>\n",
       "      <td>1.018</td>\n",
       "      <td>-1.397</td>\n",
       "    </tr>\n",
       "    <tr>\n",
       "      <th>8</th>\n",
       "      <td>2.588</td>\n",
       "      <td>0.879</td>\n",
       "      <td>-0.421</td>\n",
       "    </tr>\n",
       "    <tr>\n",
       "      <th>9</th>\n",
       "      <td>1.116</td>\n",
       "      <td>0.563</td>\n",
       "      <td>0.387</td>\n",
       "    </tr>\n",
       "  </tbody>\n",
       "</table>\n",
       "</div>"
      ],
      "text/plain": [
       "       y     x1     x2\n",
       "0  2.478  1.449  0.856\n",
       "1  0.306  0.408  0.801\n",
       "2 -1.062 -0.705 -0.009\n",
       "3 -1.986 -2.055 -1.830\n",
       "4  1.825  1.158  0.653\n",
       "5  0.143 -0.127 -0.138\n",
       "6  0.433  0.033 -0.107\n",
       "7  3.726  1.018 -1.397\n",
       "8  2.588  0.879 -0.421\n",
       "9  1.116  0.563  0.387"
      ]
     },
     "execution_count": 7,
     "metadata": {},
     "output_type": "execute_result"
    }
   ],
   "source": [
    "import numpy as np\n",
    "import pandas as pd\n",
    "\n",
    "dataArray = np.array([[2.478,1.449,0.856],\n",
    "                      [0.306,0.408,0.801],\n",
    "                      [-1.062,-0.705,-0.009],\n",
    "                      [-1.986,-2.055,-1.83],\n",
    "                      [1.825,1.158,0.653],\n",
    "                      [0.143,-0.127,-0.138],\n",
    "                      [0.433,0.033,-0.107],\n",
    "                      [3.726,1.018,-1.397],\n",
    "                      [2.588,0.879,-0.421],\n",
    "                      [1.116,0.563,0.387]])\n",
    "\n",
    "data = pd.DataFrame(data = dataArray, columns = [\"y\", \"x1\", \"x2\"])"
   ]
  },
  {
   "cell_type": "code",
   "execution_count": 25,
   "metadata": {},
   "outputs": [],
   "source": [
    "# Leap frog code for HMC\n",
    "\n",
    "def leapFrog(q0, p0, dt, T, gradQ, gradP):\n",
    "    qend, pend = q0.copy(), p0.copy()\n",
    "    for i in range(int(T/dt)):\n",
    "        delq = gradQ(qend)\n",
    "        pend = np.array([p - 0.5*dt*dq for p, dq in zip(pend, delq)])\n",
    "        delp = gradP(pend)\n",
    "        qend = np.array([q + dt*p for q, p in zip(qend, delp)])\n",
    "        delq = gradQ(qend)\n",
    "        pend = np.array([p - 0.5*dt*dq for p, dq in zip(pend, delq)])\n",
    "    return qend, pend"
   ]
  },
  {
   "cell_type": "code",
   "execution_count": 26,
   "metadata": {},
   "outputs": [
    {
     "data": {
      "text/plain": [
       "[<matplotlib.lines.Line2D at 0x28512590a20>]"
      ]
     },
     "execution_count": 26,
     "metadata": {},
     "output_type": "execute_result"
    },
    {
     "data": {
      "image/png": "[encoded data removed]",
      "text/plain": [
       "<Figure size 432x288 with 1 Axes>"
      ]
     },
     "metadata": {
      "needs_background": "light"
     },
     "output_type": "display_data"
    }
   ],
   "source": [
    "# Example implementation of leapfrog\n",
    "q = np.array([0,1])\n",
    "p = np.array([1,0])\n",
    "\n",
    "def gradQ(q):\n",
    "    return q/sum(q**2)**(3/2)\n",
    "\n",
    "masses = np.ones(2)\n",
    "def gradP(p):\n",
    "    return np.array([pi/mi for pi, mi in zip(p, masses)])\n",
    "\n",
    "# example run\n",
    "leapFrog(q, p, 0.1, 1, gradQ, gradP)\n",
    "\n",
    "#example trajectory\n",
    "T = 6\n",
    "path = np.empty((int(T/0.1), 2))\n",
    "path[0] = q[:]\n",
    "for i in range(1, int(T/0.1)):\n",
    "    q, p = leapFrog(q, p, 0.1, 0.1, gradQ, gradP)\n",
    "    path[i] = q[:]\n",
    "    \n",
    "import matplotlib.pyplot as pyplot\n",
    "\n",
    "pyplot.plot(path[:,0], path[:,1])"
   ]
  },
  {
   "cell_type": "code",
   "execution_count": null,
   "metadata": {},
   "outputs": [],
   "source": []
  }
 ],
 "metadata": {
  "kernelspec": {
   "display_name": "Python 3",
   "language": "python",
   "name": "python3"
  },
  "language_info": {
   "codemirror_mode": {
    "name": "ipython",
    "version": 3
   },
   "file_extension": ".py",
   "mimetype": "text/x-python",
   "name": "python",
   "nbconvert_exporter": "python",
   "pygments_lexer": "ipython3",
   "version": "3.7.3"
  }
 },
 "nbformat": 4,
 "nbformat_minor": 2
}
